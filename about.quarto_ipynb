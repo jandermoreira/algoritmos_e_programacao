{
  "cells": [
    {
      "cell_type": "markdown",
      "metadata": {},
      "source": [
        "---\n",
        "title: \"About\"\n",
        "---\n",
        "\n",
        "```{latex .pseudocode}\n",
        "\\begin{algorithmic}\n",
        "    \\Statep{$x \\gets 0$}\n",
        "\\end{algorithmic}\n",
        "```"
      ],
      "id": "ac99c502"
    }
  ],
  "metadata": {
    "kernelspec": {
      "display_name": "Python 3",
      "language": "python",
      "name": "python3"
    }
  },
  "nbformat": 4,
  "nbformat_minor": 5
}